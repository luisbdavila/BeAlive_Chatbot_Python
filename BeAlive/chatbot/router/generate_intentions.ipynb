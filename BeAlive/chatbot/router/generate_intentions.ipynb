{
 "cells": [
  {
   "cell_type": "code",
   "execution_count": 1,
   "metadata": {},
   "outputs": [],
   "source": [
    "from pydantic import BaseModel, Field\n",
    "from langchain.output_parsers import PydanticOutputParser\n",
    "from langchain_core.prompts import PromptTemplate\n",
    "from langchain_openai import ChatOpenAI\n",
    "from dotenv import load_dotenv"
   ]
  },
  {
   "cell_type": "code",
   "execution_count": 2,
   "metadata": {},
   "outputs": [
    {
     "data": {
      "text/plain": [
       "True"
      ]
     },
     "execution_count": 2,
     "metadata": {},
     "output_type": "execute_result"
    }
   ],
   "source": [
    "load_dotenv()"
   ]
  },
  {
   "cell_type": "markdown",
   "metadata": {},
   "source": [
    "Here are some auxiliar functions to save your synthetic data."
   ]
  },
  {
   "cell_type": "code",
   "execution_count": 3,
   "metadata": {},
   "outputs": [],
   "source": [
    "from auxiliar import add_messages"
   ]
  },
  {
   "cell_type": "code",
   "execution_count": 4,
   "metadata": {},
   "outputs": [],
   "source": [
    "class SyntheticUserMessage(BaseModel):\n",
    "    \"\"\"\n",
    "    Represents a synthetic user message for a specific task intention.\n",
    "\n",
    "    Attributes:\n",
    "    -----------\n",
    "        message : str\n",
    "            The user message to generate for the target task intention.\n",
    "    \"\"\"\n",
    "\n",
    "    message: str = Field(\n",
    "        ...,\n",
    "        title=\"Message\",\n",
    "        description=\"The user message to generate for the target task intention.\",\n",
    "    )\n",
    "\n",
    "\n",
    "class ListSyntheticUserMessages(BaseModel):\n",
    "    \"\"\"\n",
    "    A collection of synthetic user messages.\n",
    "\n",
    "    Attributes:\n",
    "        messages (list[SyntheticUserMessage]): A list of synthetic user messages.\n",
    "    \"\"\"\n",
    "\n",
    "    messages: list[SyntheticUserMessage] = Field(\n",
    "        ...,\n",
    "        title=\"Messages\",\n",
    "        description=\"The list of synthetic user messages to generate for the target task intention.\",\n",
    "    )\n",
    "\n",
    "output_parser = PydanticOutputParser(pydantic_object=ListSyntheticUserMessages)"
   ]
  },
  {
   "cell_type": "code",
   "execution_count": 5,
   "metadata": {},
   "outputs": [],
   "source": [
    "system_prompt = \"\"\"\n",
    "You are tasked with generating synthetic user messages for an activity finder platform called BeAlive,\n",
    "which allows users to obtain personalized activity recomendations.\n",
    "\n",
    "The user intentions are:\n",
    "{user_intentions}\n",
    "\n",
    "Your task is to create {k} distinct messages for the following target task intention:\n",
    "{target_task_intention}\n",
    "\n",
    "Here are some examples of human written messages you can use as inspiration:\n",
    "{target_task_intention_examples}\n",
    "\n",
    "Specific information about the target task intention:\n",
    "{target_task_intention_description}\n",
    "\n",
    "Follow these guidelines:\n",
    "1. Focus exclusively on the target task intention, ensuring the message is relevant.\n",
    "2. Each message should be between 5 and 40 words.\n",
    "3. Avoid including any details or references to other user intentions.\n",
    "4. Ensure the messages sound natural and typical of user queries for the given intention.\n",
    "5. Follow the provided format strictly to maintain consistency.\n",
    "\n",
    "Message format:\n",
    "{format_instructions}\n",
    "\"\"\"\n",
    "\n",
    "prompt = PromptTemplate(\n",
    "    template=system_prompt,\n",
    "    input_variables=[\"k\", \"user_intentions\", \"target_task_intention\" \"target_task_intention_description\", \"format_instructions\"],\n",
    "    partial_variables={\"format_instructions\": output_parser.get_format_instructions()},\n",
    ")"
   ]
  },
  {
   "cell_type": "code",
   "execution_count": 6,
   "metadata": {},
   "outputs": [],
   "source": [
    "llm = ChatOpenAI(temperature=0.0, model=\"gpt-4o-mini\")\n",
    "\n",
    "user_intentions = [\"company_information\", \"delete_activities\",  \"activity_search\", \"review_user\", \"review_activity\",\n",
    "                   \"make_reservation\", \"accept_reservation\", \"reject_reservation\", \"check_reservations\", \"check_reviews\",\n",
    "                   \"check_number_reservations\"]\n",
    "k = 50 # Number of synthetic user messages to generate for each target task intention\n",
    "\n",
    "file_name = \"synthetic_intetions.json\"\n",
    "\n",
    "synthetic_data_chain = prompt | llm | output_parser"
   ]
  },
  {
   "cell_type": "markdown",
   "metadata": {},
   "source": [
    "# Intention 1 - Company and Chatbot information"
   ]
  },
  {
   "cell_type": "code",
   "execution_count": 7,
   "metadata": {},
   "outputs": [],
   "source": [
    "intention = \"company_information\"\n",
    "\n",
    "description = \"\"\"The user wants to know more about the company or obtain more information about how to use the chatbot. The user will \n",
    "most likely ask a question about the company information or where and how to use specific methods within the chatbot or what they\n",
    "do, such as creating, deleting or searching for activities, checking or making reviews and reservations. They may also ask questions\n",
    "about the webpage layout, which contains five pages: 'Chatbot', 'Calendar', 'Instructions', 'Account' and 'About us'.\"\"\"\n",
    "\n",
    "examples = ['How do I use the chatbot?', 'What does the calendar page do?', 'Where can I update my information?']\n",
    "\n",
    "response = synthetic_data_chain.invoke({\"k\": k, \n",
    "                                        \"user_intentions\": user_intentions,\n",
    "                                        \"target_task_intention\": intention,\n",
    "                                        \"target_task_intention_description\": description,\n",
    "                                        \"target_task_intention_examples\": examples})\n",
    "\n",
    "company_information_messages = []\n",
    "for message in response.messages:\n",
    "    company_information_messages.append({\"Intention\":intention, \"Message\":message.message})"
   ]
  },
  {
   "cell_type": "markdown",
   "metadata": {},
   "source": [
    "Now you can check and edit your synthetic messages in a json file."
   ]
  },
  {
   "cell_type": "code",
   "execution_count": 8,
   "metadata": {},
   "outputs": [],
   "source": [
    "add_messages(company_information_messages, file_name)"
   ]
  },
  {
   "cell_type": "markdown",
   "metadata": {},
   "source": [
    "# Intention 2 - Delete Activities "
   ]
  },
  {
   "cell_type": "code",
   "execution_count": 9,
   "metadata": {},
   "outputs": [],
   "source": [
    "intention = \"delete_activities\"\n",
    "\n",
    "description = \"\"\"The user intends to delete an activity. The messages should be very clear in that the user wants to delete an activity\n",
    "and they must include a generated activity name.\"\"\"\n",
    "\n",
    "examples = ['I want to delete the night safari activity', 'Please remove the underwater cave exploring', 'Please cancel the walk through the ruins']\n",
    "\n",
    "response = synthetic_data_chain.invoke({\"k\": k,\n",
    "                                        \"user_intentions\": user_intentions,\n",
    "                                        \"target_task_intention\": intention,\n",
    "                                        \"target_task_intention_description\": description,\n",
    "                                        \"target_task_intention_examples\": examples})\n",
    "\n",
    "delete_activities_messages = []\n",
    "\n",
    "for message in response.messages:\n",
    "    delete_activities_messages.append({\"Intention\":intention, \"Message\":message.message})"
   ]
  },
  {
   "cell_type": "code",
   "execution_count": 10,
   "metadata": {},
   "outputs": [],
   "source": [
    "add_messages(delete_activities_messages, file_name)"
   ]
  },
  {
   "cell_type": "markdown",
   "metadata": {},
   "source": [
    "# Intention 3 - Search for an activity"
   ]
  },
  {
   "cell_type": "code",
   "execution_count": 11,
   "metadata": {},
   "outputs": [],
   "source": [
    "intention = \"activity_search\"\n",
    "\n",
    "\n",
    "description = \"\"\"The user is describing what the activity they want to participate in is like, for example, indoors or outdoors, \n",
    "artitistic or sporty, please be creative in these descriptions. Furthermore, the user may mention a specific city (Lisbon, Porto, \n",
    "New York, Miami, for example) or a specific time period (tomorrow, next week, third week of March, or 3rd of January are just a few \n",
    "examples). For these messages you may use up to 50 words.\"\"\"\n",
    "\n",
    "examples = [\"I'm looking for an outdoors activity where I can be at one with nature.\",\n",
    "            \"I'm looking for a sports activity this weekend\",\n",
    "            \"I'm looking for an activity in Porto in the third week of March\"]\n",
    "\n",
    "response = synthetic_data_chain.invoke({\"k\": k,\n",
    "                                        \"user_intentions\": user_intentions,\n",
    "                                        \"target_task_intention\": intention,\n",
    "                                        \"target_task_intention_description\": description,\n",
    "                                        \"target_task_intention_examples\": examples})\n",
    "\n",
    "activity_search_messages = []\n",
    "\n",
    "for message in response.messages:\n",
    "    activity_search_messages.append({\"Intention\":intention, \"Message\":message.message})"
   ]
  },
  {
   "cell_type": "code",
   "execution_count": 12,
   "metadata": {},
   "outputs": [],
   "source": [
    "add_messages(activity_search_messages, file_name)"
   ]
  },
  {
   "cell_type": "markdown",
   "metadata": {},
   "source": [
    "# Intention 4 - Review Activity"
   ]
  },
  {
   "cell_type": "code",
   "execution_count": 13,
   "metadata": {},
   "outputs": [],
   "source": [
    "intention = \"review_activity\"\n",
    "\n",
    "\n",
    "description = \"\"\"The user is leaving a review for an activity they attended. This should include some aspects they liked or disliked or\n",
    "suggestions for the host, please be creative. Crucially the message should clearly state the activity that is being reviewed as well as \n",
    "have a 1 to 5 rating.\"\"\"\n",
    "\n",
    "examples = [\"The fishing workshop was really fun. Fantastic for begginers. I would rate it a 5\",\n",
    "            \"The cooking class was dissapointing. The chef was rushing through the instructions. I'll give it a 3.\",\n",
    "            \"I loved the basketball tournament. It was very well organized. It's a 5 for me\"]\n",
    "\n",
    "response = synthetic_data_chain.invoke({\"k\": k,\n",
    "                                        \"user_intentions\": user_intentions,\n",
    "                                        \"target_task_intention\": intention,\n",
    "                                        \"target_task_intention_description\": description,\n",
    "                                        \"target_task_intention_examples\": examples})\n",
    "\n",
    "review_activity_messages = []\n",
    "\n",
    "for message in response.messages:\n",
    "    review_activity_messages.append({\"Intention\":intention, \"Message\":message.message})"
   ]
  },
  {
   "cell_type": "code",
   "execution_count": 14,
   "metadata": {},
   "outputs": [],
   "source": [
    "add_messages(review_activity_messages, file_name)"
   ]
  },
  {
   "cell_type": "markdown",
   "metadata": {},
   "source": [
    "# Intention 5 - Review User"
   ]
  },
  {
   "cell_type": "code",
   "execution_count": 15,
   "metadata": {},
   "outputs": [],
   "source": [
    "intention = \"review_user\"\n",
    "\n",
    "\n",
    "description = \"\"\"The host of an activity is reviewing a user who partcipated in the activity, thus the review should include positive or \n",
    "negative aspects of the user's participation, please be creative. Crucially the message should clearly state the activity that the user\n",
    "attended and the user's username as well as have a 1 to 5 rating.\"\"\"\n",
    "\n",
    "examples = [\"John was extremely collaborative at the escape room. He helped the other players throughout. I can easily give him a 5.\",\n",
    "            \"Carl was cranky all day at the golf tournament. It was very annoying. I'll rate him a 1.\",\n",
    "            \"Despite being quite tired at the buggy excursion, Mike ended up being a really nice guy. I'll give him a 4\"]\n",
    "\n",
    "response = synthetic_data_chain.invoke({\"k\": k,\n",
    "                                        \"user_intentions\": user_intentions,\n",
    "                                        \"target_task_intention\": intention,\n",
    "                                        \"target_task_intention_description\": description,\n",
    "                                        \"target_task_intention_examples\": examples})\n",
    "\n",
    "review_user_messages = []\n",
    "\n",
    "for message in response.messages:\n",
    "    review_user_messages.append({\"Intention\":intention, \"Message\":message.message})"
   ]
  },
  {
   "cell_type": "code",
   "execution_count": 16,
   "metadata": {},
   "outputs": [],
   "source": [
    "add_messages(review_user_messages, file_name)"
   ]
  },
  {
   "cell_type": "markdown",
   "metadata": {},
   "source": [
    "# Intention 6 - Make Reservation"
   ]
  },
  {
   "cell_type": "code",
   "execution_count": 17,
   "metadata": {},
   "outputs": [],
   "source": [
    "intention = \"make_reservation\"\n",
    "\n",
    "\n",
    "description = \"\"\"The user is reserving their spot in an activity. They will leave a message for the host letting them know why they\n",
    "wish to participate in the activity and/or why they're the right fit for it. Obviously, the name of the activity should be clearly \n",
    "stated. You may use up to 50 words in this particular case\"\"\"\n",
    "\n",
    "examples = [\"I want to reserve the chinese cuisine course.\",\n",
    "            \"Get me a spot in the football tournament\",\n",
    "            \"I want a spot at the gaming convention\"]\n",
    "\n",
    "response = synthetic_data_chain.invoke({\"k\": k,\n",
    "                                        \"user_intentions\": user_intentions,\n",
    "                                        \"target_task_intention\": intention, \n",
    "                                        \"target_task_intention_description\": description,\n",
    "                                        \"target_task_intention_examples\": examples})\n",
    "\n",
    "make_reservation_messages = []\n",
    "\n",
    "for message in response.messages:\n",
    "    make_reservation_messages.append({\"Intention\":intention, \"Message\":message.message})"
   ]
  },
  {
   "cell_type": "code",
   "execution_count": 18,
   "metadata": {},
   "outputs": [],
   "source": [
    "add_messages(make_reservation_messages, file_name)"
   ]
  },
  {
   "cell_type": "markdown",
   "metadata": {},
   "source": [
    "# Intention 7 - Accept Reservation"
   ]
  },
  {
   "cell_type": "code",
   "execution_count": 19,
   "metadata": {},
   "outputs": [],
   "source": [
    "intention = \"accept_reservation\"\n",
    "\n",
    "\n",
    "description = \"\"\"The host is accepting a reservation to their activity. The message should be simple only saying that the reservation\n",
    "has been accepted and clearly state the username of the user whose reservation is being accepted and the activity name.\"\"\"\n",
    "\n",
    "examples = [\"Please accept Chris' reservation for the bowling tournament\",\n",
    "            \"Accept Brian's request to particpate in the coding competition\",\n",
    "            \"Consider Carl's reservation for the marathon accepted\"]\n",
    "\n",
    "response = synthetic_data_chain.invoke({\"k\": k,\n",
    "                                        \"user_intentions\": user_intentions,\n",
    "                                        \"target_task_intention\": intention,\n",
    "                                        \"target_task_intention_description\": description,\n",
    "                                        \"target_task_intention_examples\": examples})\n",
    "\n",
    "accept_reservation_messages = []\n",
    "\n",
    "for message in response.messages:\n",
    "    accept_reservation_messages.append({\"Intention\":intention, \"Message\":message.message})"
   ]
  },
  {
   "cell_type": "code",
   "execution_count": 20,
   "metadata": {},
   "outputs": [],
   "source": [
    "add_messages(accept_reservation_messages, file_name)"
   ]
  },
  {
   "cell_type": "markdown",
   "metadata": {},
   "source": [
    "# Intention 8 - Reject Reservation"
   ]
  },
  {
   "cell_type": "code",
   "execution_count": 21,
   "metadata": {},
   "outputs": [],
   "source": [
    "intention = \"reject_reservation\"\n",
    "\n",
    "\n",
    "description = \"\"\"The host is rejecting a reservation to their activity. The message should be simple only saying that the reservation\n",
    "has been rejected and clearly state the username of the user whose reservation is being rejecting and the activity name.\"\"\"\n",
    "\n",
    "examples = [\"Please reject Chris' reservation for the bowling tournament\",\n",
    "            \"Deny Brian's request to particpate in the coding competition\",\n",
    "            \"Consider Carl's reservation for the marathon rejected\"]\n",
    "\n",
    "response = synthetic_data_chain.invoke({\"k\": k,\n",
    "                                        \"user_intentions\": user_intentions,\n",
    "                                        \"target_task_intention\": intention,\n",
    "                                        \"target_task_intention_description\": description,\n",
    "                                        \"target_task_intention_examples\": examples})\n",
    "\n",
    "reject_reservation_messages = []\n",
    "\n",
    "for message in response.messages:\n",
    "    reject_reservation_messages.append({\"Intention\":intention, \"Message\":message.message})"
   ]
  },
  {
   "cell_type": "code",
   "execution_count": 22,
   "metadata": {},
   "outputs": [],
   "source": [
    "add_messages(reject_reservation_messages, file_name)"
   ]
  },
  {
   "cell_type": "markdown",
   "metadata": {},
   "source": [
    "# Intention 9 - Check Activity Reservations/Participants"
   ]
  },
  {
   "cell_type": "code",
   "execution_count": 23,
   "metadata": {},
   "outputs": [],
   "source": [
    "intention = \"check_reservations\"\n",
    "\n",
    "\n",
    "description = \"\"\"The host of an activity is looking for a list of users who have attended or have a reservation for his activity. \n",
    "Use terms like 'Who reserved...', 'Who attended...', 'Give me a list of partcipants...' or 'Give me a list of reservations...', please \n",
    "diversify these requests. This request should very clearly state the name of the activity.\"\"\"\n",
    "\n",
    "examples = [\"Who has reserved the sushi course?\",\n",
    "            \"Who attended the Trading Card convention?\",\n",
    "            \"Tell me what reservations I have for the muscle car event\"]\n",
    "\n",
    "response = synthetic_data_chain.invoke({\"k\": k,\n",
    "                                        \"user_intentions\": user_intentions,\n",
    "                                        \"target_task_intention\": intention,\n",
    "                                        \"target_task_intention_description\": description,\n",
    "                                        \"target_task_intention_examples\": examples})\n",
    "\n",
    "check_reservations_messages = []\n",
    "\n",
    "for message in response.messages:\n",
    "    check_reservations_messages.append({\"Intention\":intention, \"Message\":message.message})"
   ]
  },
  {
   "cell_type": "code",
   "execution_count": 24,
   "metadata": {},
   "outputs": [],
   "source": [
    "add_messages(check_reservations_messages, file_name)"
   ]
  },
  {
   "cell_type": "markdown",
   "metadata": {},
   "source": [
    "# Intention 10 - Check Activity Reviews"
   ]
  },
  {
   "cell_type": "code",
   "execution_count": 25,
   "metadata": {},
   "outputs": [],
   "source": [
    "intention = \"check_reviews\"\n",
    "\n",
    "\n",
    "description = \"\"\"The host of an activity is looking for a list of users who have reviewed his activity. \n",
    "Use terms like 'Who reviewed...', 'Give me a list of reviews...', please diversify\n",
    "these requests. This request should very clearly state the name of the activity.\"\"\"\n",
    "\n",
    "examples = [\"Who has reviewed the sushi course?\",\n",
    "            \"Who reviewed the Trading Card convention?\",\n",
    "            \"Tell me what reviews I have for the muscle car event\"]\n",
    "\n",
    "response = synthetic_data_chain.invoke({\"k\": k,\n",
    "                                        \"user_intentions\": user_intentions,\n",
    "                                        \"target_task_intention\": intention, \n",
    "                                        \"target_task_intention_description\": description,\n",
    "                                        \"target_task_intention_examples\": examples})\n",
    "\n",
    "check_reviews_messages = []\n",
    "\n",
    "for message in response.messages:\n",
    "    check_reviews_messages.append({\"Intention\":intention, \"Message\":message.message})"
   ]
  },
  {
   "cell_type": "code",
   "execution_count": 26,
   "metadata": {},
   "outputs": [],
   "source": [
    "add_messages(check_reviews_messages, file_name)"
   ]
  },
  {
   "cell_type": "markdown",
   "metadata": {},
   "source": [
    "# Intention 11 - Check Number of reservations"
   ]
  },
  {
   "cell_type": "code",
   "execution_count": 27,
   "metadata": {},
   "outputs": [],
   "source": [
    "intention = \"check_number_reservations\"\n",
    "\n",
    "\n",
    "description = \"\"\"The host of an activity is looking for the number of reservations to his activity. The request may directly ask\n",
    "for the number of reservations, alternatively the host may ask how many spots are left or if the activity is full, for example. \n",
    "This request should very clearly state the name of the activity.\"\"\"\n",
    "\n",
    "examples = ['Is the woodworking workshop full?',\n",
    "            \"How many reservations does the model car convention have?\",\n",
    "            \"How many spots are left for the Ice Cream course\"]\n",
    "\n",
    "response = synthetic_data_chain.invoke({\"k\": k,\n",
    "                                        \"user_intentions\": user_intentions,\n",
    "                                        \"target_task_intention\": intention,\n",
    "                                        \"target_task_intention_description\": description,\n",
    "                                         \"target_task_intention_examples\": examples})\n",
    "\n",
    "check_number_reservations_messages = []\n",
    "\n",
    "for message in response.messages:\n",
    "    check_number_reservations_messages.append({\"Intention\":intention, \"Message\":message.message})"
   ]
  },
  {
   "cell_type": "code",
   "execution_count": 28,
   "metadata": {},
   "outputs": [],
   "source": [
    "add_messages(check_number_reservations_messages, file_name)"
   ]
  },
  {
   "cell_type": "markdown",
   "metadata": {},
   "source": [
    "# No Intention: None"
   ]
  },
  {
   "cell_type": "code",
   "execution_count": 29,
   "metadata": {},
   "outputs": [],
   "source": [
    "system_prompt = \"\"\"\n",
    "You are tasked with generating synthetic user messages.\n",
    "\n",
    "The user intentions are:\n",
    "{user_intentions}\n",
    "\n",
    "Your task is to create {k} distinct messages completely unrelated to the available user intentions.\n",
    "These messages should be generic and not related to any specific task or intention.\n",
    "The user is engaging in casual conversation.\n",
    "The user might ask general questions, share opinions, or express emotions. \n",
    "The user might also ask for totaly none related questions to the platform. \n",
    "The user might ask general questions, share opinions, or express emotions.\n",
    "\n",
    "Follow these guidelines:\n",
    "1. Focus exclusively on not being related to any of the user intentions.\n",
    "2. Each message should be between 5 and 20 words.\n",
    "3. Avoid including any details or references to other user intentions.\n",
    "4. Ensure the messages sound natural and typical of user queries for the given intention.\n",
    "5. Follow the provided format strictly to maintain consistency.\n",
    "\n",
    "Message format:\n",
    "{format_instructions}\n",
    "\"\"\""
   ]
  },
  {
   "cell_type": "code",
   "execution_count": 30,
   "metadata": {},
   "outputs": [],
   "source": [
    "prompt = PromptTemplate(\n",
    "    template=system_prompt,\n",
    "    input_variables=[\"k\", \"user_intentions\"],\n",
    "    partial_variables={\"format_instructions\": output_parser.get_format_instructions()},\n",
    ")\n",
    "\n",
    "synthetic_data_chain = prompt | llm | output_parser"
   ]
  },
  {
   "cell_type": "code",
   "execution_count": 31,
   "metadata": {},
   "outputs": [],
   "source": [
    "response = synthetic_data_chain.invoke({\"k\": (k//2), \"user_intentions\": user_intentions})\n",
    "\n",
    "none_related_messages = []\n",
    "\n",
    "for message in response.messages:\n",
    "    none_related_messages.append({\"Intention\":\"None\", \"Message\":message.message})"
   ]
  },
  {
   "cell_type": "code",
   "execution_count": 32,
   "metadata": {},
   "outputs": [],
   "source": [
    "add_messages(none_related_messages, file_name)"
   ]
  },
  {
   "cell_type": "code",
   "execution_count": null,
   "metadata": {},
   "outputs": [],
   "source": []
  }
 ],
 "metadata": {
  "kernelspec": {
   "display_name": "capestone_please",
   "language": "python",
   "name": "python3"
  },
  "language_info": {
   "codemirror_mode": {
    "name": "ipython",
    "version": 3
   },
   "file_extension": ".py",
   "mimetype": "text/x-python",
   "name": "python",
   "nbconvert_exporter": "python",
   "pygments_lexer": "ipython3",
   "version": "3.12.8"
  }
 },
 "nbformat": 4,
 "nbformat_minor": 2
}
